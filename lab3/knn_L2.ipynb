{
  "nbformat": 4,
  "nbformat_minor": 0,
  "metadata": {
    "colab": {
      "provenance": [],
      "authorship_tag": "ABX9TyMc/s57j5zjcwcQL0ZILZOT",
      "include_colab_link": true
    },
    "kernelspec": {
      "name": "python3",
      "display_name": "Python 3"
    },
    "language_info": {
      "name": "python"
    }
  },
  "cells": [
    {
      "cell_type": "markdown",
      "metadata": {
        "id": "view-in-github",
        "colab_type": "text"
      },
      "source": [
        "<a href=\"https://colab.research.google.com/github/hakmin1015/PowerSystemEconomics/blob/main/lab3/knn_L2.ipynb\" target=\"_parent\"><img src=\"https://colab.research.google.com/assets/colab-badge.svg\" alt=\"Open In Colab\"/></a>"
      ]
    },
    {
      "cell_type": "markdown",
      "source": [
        "#L2 (Euclidean) distance"
      ],
      "metadata": {
        "id": "3cLH4qjWRSKe"
      }
    },
    {
      "cell_type": "code",
      "execution_count": null,
      "metadata": {
        "id": "R38R7gnTRQbs"
      },
      "outputs": [],
      "source": [
        "import numpy as np\n",
        "\n",
        "class NearestNeighbor:\n",
        "\n",
        "  def __init__(self):\n",
        "    pass\n",
        "\n",
        "  def train(self,X,y):\n",
        "    self.Xtr = X\n",
        "    self.ytr = y\n",
        "\n",
        "  def predict(self,X):\n",
        "    num_test = X.shape[0]\n",
        "    Ypred = np.zeros(num_test, dtype = self.ytr.dtype)\n",
        "\n",
        "    k = int(input(\"Input k value(odd) : \")) # 임의의 k를 입력받을 수 있도록 코드 추가\n",
        "\n",
        "    for i in range(num_test):\n",
        "      distances = np.sum(np.power((self.Xtr - X[i,:]),2), axis = 1)\n",
        "      distances = np.sqrt(distances)\n",
        "      sorted_idx = np.argsort(distances)  # 오름차순 정렬\n",
        "      k_sorted_idx = sorted_idx[:k]    # 작은 순으로 k개 선택\n",
        "      closest_y = self.ytr[k_sorted_idx]\n",
        "      cnt_closest_y = np.bincount(closest_y)  # 빈도 수를 count함.\n",
        "      Ypred[i] = np.argmax(cnt_closest_y) # 빈도수가 가장 많은 value를 Ypred에 담음.\n",
        "\n",
        "    return Ypred"
      ]
    }
  ]
}